{
 "cells": [
  {
   "cell_type": "code",
   "execution_count": null,
   "id": "6faf4316-e1dc-4b8e-ba02-998af2481a32",
   "metadata": {},
   "outputs": [],
   "source": []
  }
 ],
 "metadata": {
  "kernelspec": {
   "display_name": "",
   "name": ""
  },
  "language_info": {
   "name": ""
  }
 },
 "nbformat": 4,
 "nbformat_minor": 5
}
